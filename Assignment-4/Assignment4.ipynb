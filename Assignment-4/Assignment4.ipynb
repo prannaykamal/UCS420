{
  "nbformat": 4,
  "nbformat_minor": 0,
  "metadata": {
    "colab": {
      "provenance": []
    },
    "kernelspec": {
      "name": "python3",
      "display_name": "Python 3"
    },
    "language_info": {
      "name": "python"
    }
  },
  "cells": [
    {
      "cell_type": "code",
      "execution_count": null,
      "metadata": {
        "colab": {
          "base_uri": "https://localhost:8080/"
        },
        "id": "phhzSatbssNb",
        "outputId": "f24ab117-7b32-45b1-e6c3-5e41b7b47bd0"
      },
      "outputs": [
        {
          "output_type": "stream",
          "name": "stdout",
          "text": [
            "[3 4 5 6 7]\n",
            "[ 3  6  9 12 15]\n",
            "[0.5 1.  1.5 2.  2.5]\n"
          ]
        }
      ],
      "source": [
        "#Q1\n",
        "import numpy as np\n",
        "a=np.array([1,2,3,4,5])\n",
        "a1=a+2\n",
        "print(a1)\n",
        "a2=a*3\n",
        "print(a2)\n",
        "a3=a/2\n",
        "print(a3)"
      ]
    },
    {
      "cell_type": "code",
      "source": [
        "#Q2\n",
        "arr=np.array([1,2,3,6,4,5])\n",
        "print(arr[::-1])\n",
        "def most_freq(arr):\n",
        "  unique,counts=np.unique(arr,return_counts=True)\n",
        "  n=max(counts)\n",
        "  val=unique[counts==n][0]\n",
        "  print(f'most frequent value is {val}')\n",
        "  for i in range(len(arr)):\n",
        "    if arr[i]==val:\n",
        "      print(i,end=\"\")\n",
        "  print(\"\")\n",
        "x=np.array([1,2,3,4,5,1,2,1,1,1])\n",
        "most_freq(x)\n",
        "y=np.array([1,1,1,2,3,4,2,4,3,3])\n",
        "most_freq(y)\n"
      ],
      "metadata": {
        "colab": {
          "base_uri": "https://localhost:8080/"
        },
        "id": "SCE8Fv2ttkH3",
        "outputId": "998ea88b-bc9b-44ab-efbd-c12ccf32892c"
      },
      "execution_count": null,
      "outputs": [
        {
          "output_type": "stream",
          "name": "stdout",
          "text": [
            "[5 4 6 3 2 1]\n",
            "most frequent value is 1\n",
            "05789\n",
            "most frequent value is 1\n",
            "012\n"
          ]
        }
      ]
    },
    {
      "cell_type": "code",
      "source": [
        "#Q3\n",
        "arr=np.array([[10,20,30],[40,50,60],[70,80,90]])\n",
        "print(arr[0][1])\n",
        "print(arr[2][0])"
      ],
      "metadata": {
        "colab": {
          "base_uri": "https://localhost:8080/"
        },
        "id": "r6gojpZR2z_h",
        "outputId": "14769c24-5ad0-4ff3-bba1-214ddf2bb191"
      },
      "execution_count": null,
      "outputs": [
        {
          "output_type": "stream",
          "name": "stdout",
          "text": [
            "20\n",
            "70\n"
          ]
        }
      ]
    },
    {
      "cell_type": "code",
      "source": [
        "#Q4\n",
        "Prannay=np.linspace(10,100,25)\n",
        "print(\"Dimension is \",Prannay.ndim)\n",
        "print(\"Shape is \",Prannay.shape)\n",
        "print(\"Total elements= \",Prannay.size)\n",
        "print(\"Data type of each element is \",Prannay.dtype)\n",
        "print(\"Total bytes consumed by array are \",Prannay.nbytes)\n",
        "transpose=Prannay.reshape(-1,1)\n",
        "print(\"Transpose using reshape\",transpose)\n",
        "transpose=Prannay.T\n",
        "print(\"Transpose using T attribute\",transpose)"
      ],
      "metadata": {
        "id": "-5oA4BMj4ZnT",
        "colab": {
          "base_uri": "https://localhost:8080/"
        },
        "outputId": "b18f5620-2fd3-4301-ccad-0ba57f2043c0"
      },
      "execution_count": null,
      "outputs": [
        {
          "output_type": "stream",
          "name": "stdout",
          "text": [
            "Dimension is  1\n",
            "Shape is  (25,)\n",
            "Total elements=  25\n",
            "Data type of each element is  float64\n",
            "Total bytes consumed by array are  200\n",
            "Transpose using reshape [[ 10.  ]\n",
            " [ 13.75]\n",
            " [ 17.5 ]\n",
            " [ 21.25]\n",
            " [ 25.  ]\n",
            " [ 28.75]\n",
            " [ 32.5 ]\n",
            " [ 36.25]\n",
            " [ 40.  ]\n",
            " [ 43.75]\n",
            " [ 47.5 ]\n",
            " [ 51.25]\n",
            " [ 55.  ]\n",
            " [ 58.75]\n",
            " [ 62.5 ]\n",
            " [ 66.25]\n",
            " [ 70.  ]\n",
            " [ 73.75]\n",
            " [ 77.5 ]\n",
            " [ 81.25]\n",
            " [ 85.  ]\n",
            " [ 88.75]\n",
            " [ 92.5 ]\n",
            " [ 96.25]\n",
            " [100.  ]]\n",
            "Transpose using T attribute [ 10.    13.75  17.5   21.25  25.    28.75  32.5   36.25  40.    43.75\n",
            "  47.5   51.25  55.    58.75  62.5   66.25  70.    73.75  77.5   81.25\n",
            "  85.    88.75  92.5   96.25 100.  ]\n"
          ]
        }
      ]
    },
    {
      "cell_type": "code",
      "source": [
        "#Q5\n",
        "ucs420_Prannay=np.array([[10,20,30,40],[50,60,70,80],[90,15,20,35]])\n",
        "print(\"mean=\",np.mean(ucs420_Prannay))\n",
        "print(\"median=\",np.median(ucs420_Prannay))\n",
        "print(\"max=\",np.max(ucs420_Prannay))\n",
        "print(\"min=\",np.min(ucs420_Prannay))\n",
        "print(\"unique elements:\",np.unique(ucs420_Prannay))\n",
        "reshaped_ucs420_Prannay=np.reshape(ucs420_Prannay,(4,3))\n",
        "print(\"reshaped array\")\n",
        "print(reshaped_ucs420_Prannay)\n",
        "resized_ucs420_Prannay=np.resize(ucs420_Prannay,(2,3))\n",
        "print(\"resized array\")\n",
        "print(resized_ucs420_Prannay)"
      ],
      "metadata": {
        "colab": {
          "base_uri": "https://localhost:8080/"
        },
        "id": "HIzKNcF4x1az",
        "outputId": "c95bb2b3-5885-4721-e505-f00a2708bdb5"
      },
      "execution_count": null,
      "outputs": [
        {
          "output_type": "stream",
          "name": "stdout",
          "text": [
            "mean= 43.333333333333336\n",
            "median= 37.5\n",
            "max= 90\n",
            "min= 10\n",
            "unique elements: [10 15 20 30 35 40 50 60 70 80 90]\n",
            "reshaped array\n",
            "[[10 20 30]\n",
            " [40 50 60]\n",
            " [70 80 90]\n",
            " [15 20 35]]\n",
            "resized array\n",
            "[[10 20 30]\n",
            " [40 50 60]]\n"
          ]
        }
      ]
    }
  ]
}