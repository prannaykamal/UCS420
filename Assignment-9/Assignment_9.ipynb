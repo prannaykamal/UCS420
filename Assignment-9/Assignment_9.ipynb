{
  "nbformat": 4,
  "nbformat_minor": 0,
  "metadata": {
    "colab": {
      "provenance": []
    },
    "kernelspec": {
      "name": "python3",
      "display_name": "Python 3"
    },
    "language_info": {
      "name": "python"
    }
  },
  "cells": [
    {
      "cell_type": "code",
      "execution_count": 37,
      "metadata": {
        "colab": {
          "base_uri": "https://localhost:8080/",
          "height": 0
        },
        "id": "Hn1fT7GYb_6t",
        "outputId": "684d0d4b-f64e-4469-9deb-cee010354729"
      },
      "outputs": [
        {
          "output_type": "stream",
          "name": "stderr",
          "text": [
            "[nltk_data] Downloading package punkt to /root/nltk_data...\n",
            "[nltk_data]   Package punkt is already up-to-date!\n",
            "[nltk_data] Downloading package stopwords to /root/nltk_data...\n",
            "[nltk_data]   Package stopwords is already up-to-date!\n",
            "[nltk_data] Downloading package wordnet to /root/nltk_data...\n",
            "[nltk_data]   Package wordnet is already up-to-date!\n"
          ]
        },
        {
          "output_type": "execute_result",
          "data": {
            "text/plain": [
              "True"
            ]
          },
          "metadata": {},
          "execution_count": 37
        }
      ],
      "source": [
        "import nltk\n",
        "from nltk.tokenize import word_tokenize, sent_tokenize\n",
        "from nltk.corpus import stopwords\n",
        "from nltk.stem import PorterStemmer, LancasterStemmer, WordNetLemmatizer\n",
        "from nltk.probability import FreqDist\n",
        "import re\n",
        "import matplotlib.pyplot as plt\n",
        "\n",
        "nltk.download('punkt')\n",
        "nltk.download('stopwords')\n",
        "nltk.download('wordnet')"
      ]
    },
    {
      "cell_type": "code",
      "source": [
        "# q1\n",
        "\n",
        "txt = \"\"\"SpaceX just launched another batch of satellites into orbit, pushing humanity one step closer to global internet —and aliens finally getting TikTok.\n",
        "      At this point, even Mars has better Wi-Fi than my college hostel.\"\"\"\n",
        "\n",
        "txt_clean = re.sub(r'[^\\w\\s]', '', txt.lower())\n",
        "print(txt_clean)\n",
        "\n",
        "w_tokens = word_tokenize(txt_clean)\n",
        "s_tokens = sent_tokenize(txt)\n",
        "print(w_tokens)\n",
        "print(s_tokens)\n",
        "\n",
        "sw = set(stopwords.words('english'))\n",
        "w_filtered = [w for w in w_tokens if w not in sw]\n",
        "print(w_filtered)\n",
        "\n",
        "fd = FreqDist(w_filtered)\n",
        "print(fd)\n",
        "fd.plot(10, title=\"Top Words\")"
      ],
      "metadata": {
        "colab": {
          "base_uri": "https://localhost:8080/",
          "height": 671
        },
        "id": "eDJbqgffcwjx",
        "outputId": "d7e708ce-b230-42f5-cddb-06c9f27947d0"
      },
      "execution_count": 38,
      "outputs": [
        {
          "output_type": "stream",
          "name": "stdout",
          "text": [
            "spacex just launched another batch of satellites into orbit pushing humanity one step closer to global internet and aliens finally getting tiktok\n",
            "      at this point even mars has better wifi than my college hostel\n",
            "['spacex', 'just', 'launched', 'another', 'batch', 'of', 'satellites', 'into', 'orbit', 'pushing', 'humanity', 'one', 'step', 'closer', 'to', 'global', 'internet', 'and', 'aliens', 'finally', 'getting', 'tiktok', 'at', 'this', 'point', 'even', 'mars', 'has', 'better', 'wifi', 'than', 'my', 'college', 'hostel']\n",
            "['SpaceX just launched another batch of satellites into orbit, pushing humanity one step closer to global internet —and aliens finally getting TikTok.', 'At this point, even Mars has better Wi-Fi than my college hostel.']\n",
            "['spacex', 'launched', 'another', 'batch', 'satellites', 'orbit', 'pushing', 'humanity', 'one', 'step', 'closer', 'global', 'internet', 'aliens', 'finally', 'getting', 'tiktok', 'point', 'even', 'mars', 'better', 'wifi', 'college', 'hostel']\n",
            "<FreqDist with 24 samples and 24 outcomes>\n"
          ]
        },
        {
          "output_type": "execute_result",
          "data": {
            "text/plain": [
              "<Axes: title={'center': 'Top Words'}, xlabel='Samples', ylabel='Counts'>"
            ]
          },
          "metadata": {},
          "execution_count": 38
        },
        {
          "output_type": "display_data",
          "data": {
            "text/plain": [
              "<Figure size 640x480 with 1 Axes>"
            ],
            "image/png": "[encoded data removed]"
          },
          "metadata": {}
        }
      ]
    },
    {
      "cell_type": "code",
      "source": [
        "# q2\n",
        "\n",
        "ps = PorterStemmer()\n",
        "ls = LancasterStemmer()\n",
        "lm = WordNetLemmatizer()\n",
        "\n",
        "ps_words = [ps.stem(w) for w in w_filtered]\n",
        "ls_words = [ls.stem(w) for w in w_filtered]\n",
        "lm_words = [lm.lemmatize(w) for w in w_filtered]\n",
        "\n",
        "print(\"\\nOriginal:\", w_filtered)\n",
        "print(\"Porter:\", ps_words)\n",
        "print(\"Lancaster:\", ls_words)\n",
        "print(\"Lemmatized:\", lm_words)"
      ],
      "metadata": {
        "colab": {
          "base_uri": "https://localhost:8080/",
          "height": 0
        },
        "id": "0bevWUldcwml",
        "outputId": "8b170bef-9022-47e4-845d-e87c8eee0e1f"
      },
      "execution_count": 39,
      "outputs": [
        {
          "output_type": "stream",
          "name": "stdout",
          "text": [
            "\n",
            "Original: ['spacex', 'launched', 'another', 'batch', 'satellites', 'orbit', 'pushing', 'humanity', 'one', 'step', 'closer', 'global', 'internet', 'aliens', 'finally', 'getting', 'tiktok', 'point', 'even', 'mars', 'better', 'wifi', 'college', 'hostel']\n",
            "Porter: ['spacex', 'launch', 'anoth', 'batch', 'satellit', 'orbit', 'push', 'human', 'one', 'step', 'closer', 'global', 'internet', 'alien', 'final', 'get', 'tiktok', 'point', 'even', 'mar', 'better', 'wifi', 'colleg', 'hostel']\n",
            "Lancaster: ['spacex', 'launch', 'anoth', 'batch', 'satellit', 'orbit', 'push', 'hum', 'on', 'step', 'clos', 'glob', 'internet', 'aly', 'fin', 'get', 'tiktok', 'point', 'ev', 'mar', 'bet', 'wif', 'colleg', 'hostel']\n",
            "Lemmatized: ['spacex', 'launched', 'another', 'batch', 'satellite', 'orbit', 'pushing', 'humanity', 'one', 'step', 'closer', 'global', 'internet', 'alien', 'finally', 'getting', 'tiktok', 'point', 'even', 'mar', 'better', 'wifi', 'college', 'hostel']\n"
          ]
        }
      ]
    },
    {
      "cell_type": "code",
      "source": [
        "# q3\n",
        "\n",
        "w_long = re.findall(r'\\b\\w{6,}\\b', txt_clean)\n",
        "print(w_long)\n",
        "\n",
        "nums = re.findall(r'\\d+', txt_clean)\n",
        "print(nums)\n",
        "\n",
        "cap = re.findall(r'\\b[A-Z][a-z]+\\b', txt)\n",
        "print(cap)\n",
        "\n",
        "alpha = re.findall(r'\\b[a-z]+\\b', txt_clean)\n",
        "print(alpha)\n",
        "\n",
        "vowel = re.findall(r'\\b[aeiou][a-z]*\\b', txt_clean)\n",
        "print(vowel)\n"
      ],
      "metadata": {
        "colab": {
          "base_uri": "https://localhost:8080/",
          "height": 0
        },
        "id": "mGsC_k5QcwpC",
        "outputId": "69a77e62-6907-4f82-dbc4-509625b03618"
      },
      "execution_count": 40,
      "outputs": [
        {
          "output_type": "stream",
          "name": "stdout",
          "text": [
            "['spacex', 'launched', 'another', 'satellites', 'pushing', 'humanity', 'closer', 'global', 'internet', 'aliens', 'finally', 'getting', 'tiktok', 'better', 'college', 'hostel']\n",
            "[]\n",
            "['At', 'Mars', 'Wi', 'Fi']\n",
            "['spacex', 'just', 'launched', 'another', 'batch', 'of', 'satellites', 'into', 'orbit', 'pushing', 'humanity', 'one', 'step', 'closer', 'to', 'global', 'internet', 'and', 'aliens', 'finally', 'getting', 'tiktok', 'at', 'this', 'point', 'even', 'mars', 'has', 'better', 'wifi', 'than', 'my', 'college', 'hostel']\n",
            "['another', 'of', 'into', 'orbit', 'one', 'internet', 'and', 'aliens', 'at', 'even']\n"
          ]
        }
      ]
    },
    {
      "cell_type": "code",
      "source": [
        "# q4\n",
        "\n",
        "txt1 = txt + \"Martians reportedly aren't entirely sure about cat videos, finding them perplexing, but they undeniably love dance trends—an enthusiasm that's rated at least a solid 9.5. Contact: space@example.com  or visit https://space.com. Call +91 9876543210!\"\n",
        "def tok_custom(text):\n",
        "    pattern = r\"\"\"\n",
        "        \\b\\w+(?:-\\w+)+\\b       # 1. Match any hyphenated word (e.g. wi-fi)\n",
        "        | \\b\\d+\\.\\d+\\b         # 2. Match decimal numbers intact (e.g. 9.5)\n",
        "        | \\b\\w+(?:'\\w+)?\\b     # 3. Match words and contractions (e.g. aren't, that's)\n",
        "    \"\"\"\n",
        "    return re.findall(pattern, text, flags=re.VERBOSE)\n",
        "\n",
        "tokens = tok_custom(txt1.lower())\n",
        "print(tokens)\n",
        "\n",
        "txt_sub = txt1\n",
        "txt_sub = re.sub(r'\\S+@\\S+', '<EMAIL>', txt_sub)\n",
        "txt_sub = re.sub(r'https?://\\S+', '<URL>', txt_sub)\n",
        "txt_sub = re.sub(r'(\\+\\d{1,3} \\d{10}|\\d{3}-\\d{3}-\\d{4})', '<PHONE>', txt_sub)\n",
        "print(txt_sub)"
      ],
      "metadata": {
        "colab": {
          "base_uri": "https://localhost:8080/",
          "height": 0
        },
        "id": "xzcrn4l8dATo",
        "outputId": "b3db91fe-62e5-48f2-e571-4f2a4c99cfcb"
      },
      "execution_count": 42,
      "outputs": [
        {
          "output_type": "stream",
          "name": "stdout",
          "text": [
            "['spacex', 'just', 'launched', 'another', 'batch', 'of', 'satellites', 'into', 'orbit', 'pushing', 'humanity', 'one', 'step', 'closer', 'to', 'global', 'internet', 'and', 'aliens', 'finally', 'getting', 'tiktok', 'at', 'this', 'point', 'even', 'mars', 'has', 'better', 'wi-fi', 'than', 'my', 'college', 'hostel', 'martians', 'reportedly', \"aren't\", 'entirely', 'sure', 'about', 'cat', 'videos', 'finding', 'them', 'perplexing', 'but', 'they', 'undeniably', 'love', 'dance', 'trends', 'an', 'enthusiasm', \"that's\", 'rated', 'at', 'least', 'a', 'solid', '9.5', 'contact', 'space', 'example', 'com', 'or', 'visit', 'https', 'space', 'com', 'call', '91', '9876543210']\n",
            "SpaceX just launched another batch of satellites into orbit, pushing humanity one step closer to global internet —and aliens finally getting TikTok.\n",
            "      At this point, even Mars has better Wi-Fi than my college hostel.Martians reportedly aren't entirely sure about cat videos, finding them perplexing, but they undeniably love dance trends—an enthusiasm that's rated at least a solid 9.5. Contact: <EMAIL>  or visit <URL> Call <PHONE>!\n"
          ]
        }
      ]
    }
  ]
}